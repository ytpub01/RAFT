{
 "cells": [
  {
   "cell_type": "code",
   "execution_count": null,
   "metadata": {},
   "outputs": [],
   "source": [
    "coords_g = utils.utils.coords_grid(1, 228,228)\n",
    "x = torch.ones(10)\n",
    "x.to(DEVICE)"
   ]
  }
 ],
 "metadata": {
  "kernelspec": {
   "display_name": "Python 3.7.12 ('asphere3')",
   "language": "python",
   "name": "python3"
  },
  "language_info": {
   "name": "python",
   "version": "3.7.12"
  },
  "orig_nbformat": 4,
  "vscode": {
   "interpreter": {
    "hash": "9cad7845f7b909344ea29d3de2eb3d896a6c514dc31a5ff4cfbe96aacaf9664e"
   }
  }
 },
 "nbformat": 4,
 "nbformat_minor": 2
}
